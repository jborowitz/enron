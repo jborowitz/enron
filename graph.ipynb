{
 "metadata": {
  "name": ""
 },
 "nbformat": 3,
 "nbformat_minor": 0,
 "worksheets": [
  {
   "cells": [
    {
     "cell_type": "code",
     "collapsed": false,
     "input": [
      "import pandas\n",
      "import pytz\n",
      "from dateutil import parser\n",
      "import json\n",
      "import networkx as nx\n",
      "# Import statements"
     ],
     "language": "python",
     "metadata": {},
     "outputs": [],
     "prompt_number": 1
    },
    {
     "cell_type": "code",
     "collapsed": false,
     "input": [
      "# Read in data from emails.json, which could be created from the \"export\" notebook.\n",
      "with open('emails.json') as a:\n",
      "    mails = []\n",
      "    for mail in a:\n",
      "        mails.append(json.loads(mail))\n",
      "\n",
      "froms=[a['headers']['From'] for a in mails]\n",
      "tos=[a['headers']['To'] for a in mails if 'To' in a['headers'].keys()]"
     ],
     "language": "python",
     "metadata": {},
     "outputs": [],
     "prompt_number": 2
    },
    {
     "cell_type": "code",
     "collapsed": false,
     "input": [
      "# Define helper functions\n",
      "def remove_strings(mystr, strings_to_remove=' \\n\\r\\t'):\n",
      "    \"\"\"\n",
      "This is a helper function which takes a string and removes all occurances\n",
      "of a set of characters (given by \"string_to_remove\")\n",
      "    \"\"\"\n",
      "    for string in strings_to_remove:\n",
      "        mystr=mystr.replace(string,'')\n",
      "    return mystr\n",
      "\n",
      "def field_to_set(field):\n",
      "    \"\"\"\n",
      "This is a helper function which takes the \"from\" or \"cc\" type fields, with\n",
      "a bunch of strings of emails, and splits them up and returns a set.\n",
      "    \"\"\"\n",
      "    output = set([])\n",
      "    for email in remove_strings(field).split(','):\n",
      "        output.add(email)\n",
      "    return output\n",
      "\n",
      "def add_new_email_count(G, f, t, d):\n",
      "    \"\"\"\n",
      "This function adds a new date to the list of dates associated with \n",
      "emails from address f to address d\n",
      "    \"\"\"\n",
      "    try:\n",
      "        # If there are already edges, add to this edge array\n",
      "        G.edge[f][t]['dates'].append(parser.parse(d))\n",
      "    except KeyError:\n",
      "        G.add_edge(u=f, v=t, \n",
      "        attr_dict={'dates':[parser.parse(d)]})\n",
      "    return G\n",
      "\n",
      "def get_subgraph(emails,from_date, to_date, numdays=None, center=''):\n",
      "    \"\"\"\n",
      "This will create a graph with only emails sent between from_date and to_date\n",
      "    \"\"\"\n",
      "    fd = pytz.UTC.localize(parser.parse(from_date))\n",
      "    if numdays:\n",
      "        # If there is a numdays argument, update by this many days\n",
      "        td = pytz.UTC.localize(parser.parse(from_date) + datetime.timedelta(days=numdays))\n",
      "    else:\n",
      "        td = pytz.UTC.localize(parser.parse(to_date))\n",
      "    G = nx.DiGraph()\n",
      "    count = 0\n",
      "    for i in range(len(emails)):\n",
      "        if parser.parse(mails[i]['headers']['Date']) >= fd and parser.parse(mails[i]['headers']['Date']) <= td:\n",
      "            email = mails[i]\n",
      "            from_email = email['headers']['From']\n",
      "            count += 1\n",
      "            if 'To' in email['headers']:\n",
      "                to_emails = [a for a in field_to_set(email['headers']['To'])]\n",
      "                for to_email in to_emails:\n",
      "                    G = add_new_email_count(G, from_email, to_email, email['headers']['Date'])\n",
      "    \n",
      "    \n",
      "    print('There were %d emails meeting criteria' % count)\n",
      "    set_lengths(G)\n",
      "    return G\n",
      "\n",
      "def set_lengths(G):\n",
      "    for e in G.edges():\n",
      "        attr=G[e[0]][e[1]]\n",
      "        attr['length']=len(attr['dates'])\n",
      "# Now, you can calculate the number of times where individuals received vs sent emails with\n",
      "# G.out_degree(weight='length'), which returns a dictionary of email: number of results"
     ],
     "language": "python",
     "metadata": {},
     "outputs": [],
     "prompt_number": 3
    },
    {
     "cell_type": "code",
     "collapsed": false,
     "input": [
      "# Create an overall graph representation - this will take a lot of memory if you use it on the whole data set!\n",
      "G = nx.DiGraph()\n",
      "for i in range(8):\n",
      "    email = mails[i]\n",
      "    from_email = email['headers']['From']\n",
      "    to_emails = [a for a in field_to_set(email['headers']['To'])]\n",
      "    for to_email in to_emails:\n",
      "        add_new_email_count(G, from_email, to_email, email['headers']['Date'])\n",
      "    #G.add_node(from_email)\n",
      "    # G.add_edge(u=from_email, v=to_email, attr_dict={'dates':[parser.parse(email['headers']['Date']])})\n",
      "    \n",
      "# Calculate the 'length' elements of the graph, representing the number of contacts:\n",
      "for e in G.edges():\n",
      "    attr=G[e[0]][e[1]]\n",
      "    attr['length']=len(attr['dates'])\n",
      "# This loop generates the \"length\" attribute which is the number of distinct dates where emails were \n",
      "# sent from the from address to the to address. It is the same as the code in the \"set_length\" function defined above\n"
     ],
     "language": "python",
     "metadata": {},
     "outputs": [],
     "prompt_number": 9
    },
    {
     "cell_type": "code",
     "collapsed": false,
     "input": [
      "# The code below generates a data frame of the number of in and out emails for\n",
      "# eric bass, over 5 months starting on june 2000. It writes the file to eric.bass.csv\n",
      "\n",
      "# This shoudl take a little while, and will print a set of lines with the number of emails meeting the criteria below.\n",
      "\n",
      "output = pandas.DataFrame(index= pandas.date_range('2000-06-01', periods=5, freq='M'))\n",
      "output['today'] = output.index\n",
      "def graph_row(row, freq='M'):\n",
      "    ds= pandas.date_range(str(row.name), periods=2, freq=freq)\n",
      "    tomorrow = ds[1]\n",
      "    #try:\n",
      "    outgraph = get_subgraph(mails, str(row.name), str(tomorrow))\n",
      "    #except ValueError:\n",
      "        #outgraph= None\n",
      "    return outgraph\n",
      "output['graphs']=output.apply(graph_row, axis=1)['today']\n",
      "output['out'] = output.graphs.apply(lambda x: x.out_degree('eric.bass@enron.com', weight='length')).astype(float)\n",
      "output['in'] = output.graphs.apply(lambda x: x.in_degree('eric.bass@enron.com', weight='length')).astype(float)\n",
      "output['ratio'] = output['in']/output['out']\n",
      "\n",
      "\n",
      "output[['in','out', 'ratio']].to_csv('eric.bass.csv')"
     ],
     "language": "python",
     "metadata": {},
     "outputs": [
      {
       "output_type": "stream",
       "stream": "stdout",
       "text": [
        "There were 364 emails meeting criteria\n",
        "There were 457 emails meeting criteria"
       ]
      },
      {
       "output_type": "stream",
       "stream": "stdout",
       "text": [
        "\n",
        "There were 464 emails meeting criteria"
       ]
      },
      {
       "output_type": "stream",
       "stream": "stdout",
       "text": [
        "\n",
        "There were 482 emails meeting criteria"
       ]
      },
      {
       "output_type": "stream",
       "stream": "stdout",
       "text": [
        "\n",
        "There were 610 emails meeting criteria"
       ]
      },
      {
       "output_type": "stream",
       "stream": "stdout",
       "text": [
        "\n"
       ]
      }
     ],
     "prompt_number": 4
    },
    {
     "cell_type": "code",
     "collapsed": false,
     "input": [],
     "language": "python",
     "metadata": {},
     "outputs": []
    }
   ],
   "metadata": {}
  }
 ]
}