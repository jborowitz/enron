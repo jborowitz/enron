{
 "metadata": {
  "name": ""
 },
 "nbformat": 3,
 "nbformat_minor": 0,
 "worksheets": [
  {
   "cells": [
    {
     "cell_type": "code",
     "collapsed": false,
     "input": [
      "import nltk\n",
      "import pymongo\n",
      "client = pymongo.MongoClient()\n",
      "# This will connect to the mongodb database if it's running under default\n",
      "# configs\n",
      "enron = client.enron_mail\n",
      "# use the enron_mail database\n",
      "coll = enron.messages\n",
      "# look at the messages collection inside that database\n",
      "\n",
      "b=coll.find({'headers':{'From':'michael.simmons@enron.com'}}, limit=50)\n",
      "# Find emails with 'michael.simmons@enron.com' in the From field.\n",
      "# This returns an iterator, which you can either use directly in a loop\n",
      "# or you can put into an array of dicts with:\n",
      "# a_of_d = [email for email in b]\n",
      "\n",
      "b=client.enron_mail.messages.find({'body': { '$regex' : '.*settled.*'}})\n",
      "# Find emails with the word 'settled' anywere in the body\n"
     ],
     "language": "python",
     "metadata": {},
     "outputs": []
    }
   ],
   "metadata": {}
  }
 ]
}