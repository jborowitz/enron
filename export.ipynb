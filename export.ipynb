{
 "metadata": {
  "name": ""
 },
 "nbformat": 3,
 "nbformat_minor": 0,
 "worksheets": [
  {
   "cells": [
    {
     "cell_type": "code",
     "collapsed": false,
     "input": [
      "import pymongo\n",
      "import json\n",
      "client = pymongo.MongoClient()\n",
      "enron = client.enron_mail\n",
      "# use the enron_mail database\n",
      "coll = enron.messages\n",
      "# look at the messages collection inside that database\n",
      "\n",
      "b = coll.find({}, limit = 10000)\n",
      "# Find a subset of the emails using the coll.find command\n",
      "myfile= open('emails.json','w')\n",
      "#emails = [email for email in b]\n",
      "# Put these emails into an array\n",
      "for email in b:\n",
      "    email.pop('_id')\n",
      "    myfile.write(json.dumps(email)+'\\n')\n",
      "myfile.close()\n",
      "\n",
      "email_file = open('emails.json','r')\n",
      "with open('emails.json') as email_file:\n",
      "    for line in email_file:\n",
      "        data = json.loads(line)\n",
      "        # Within this loop, we are reading in one line at a time.\n",
      "        # This will avoid having all 500k emails in memory\n",
      "\n",
      "# If you wanted all the data in memory, you could do:\n",
      "# emails = [json.loads(line) for line in open('emails.json').readlines()]"
     ],
     "language": "python",
     "metadata": {},
     "outputs": []
    }
   ],
   "metadata": {}
  }
 ]
}