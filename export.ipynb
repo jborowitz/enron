{
 "metadata": {
  "name": "export"
 },
 "nbformat": 3,
 "nbformat_minor": 0,
 "worksheets": [
  {
   "cells": [
    {
     "cell_type": "code",
     "collapsed": false,
     "input": [
      "import pymongo\n",
      "import json\n",
      "import pandas\n",
      "client = pymongo.MongoClient()\n",
      "enron = client.enron_mail\n",
      "# use the enron_mail database\n",
      "coll = enron.messages\n",
      "# look at the messages collection inside that database\n",
      "\n",
      "\n"
     ],
     "language": "python",
     "metadata": {},
     "outputs": [],
     "prompt_number": 6
    },
    {
     "cell_type": "code",
     "collapsed": false,
     "input": [
      "b = coll.find({}, limit = 10000)\n",
      "# Find a subset of the emails using the coll.find command\n",
      "myfile= open('emails.json','w')\n",
      "#emails = [email for email in b]\n",
      "# Put these emails into an array\n",
      "for email in b:\n",
      "    email.pop('_id')\n",
      "    myfile.write(json.dumps(email)+'\\n')\n",
      "myfile.close()\n",
      "\n",
      "email_file = open('emails.json','r')\n",
      "with open('emails.json') as email_file:\n",
      "    for line in email_file:\n",
      "        data = json.loads(line)\n",
      "        # Within this loop, we are reading in one line at a time.\n",
      "        # This will avoid having all 500k emails in memory\n",
      "\n",
      "# If you wanted all the data in memory, you could do:\n",
      "# emails = [json.loads(line) for line in open('emails.json').readlines()]\n"
     ],
     "language": "python",
     "metadata": {},
     "outputs": [],
     "prompt_number": 8
    },
    {
     "cell_type": "code",
     "collapsed": false,
     "input": [
      "datas = set([])\n",
      "email_file = open('emails.json','r')\n",
      "with open('emails.json') as email_file:\n",
      "    for line in email_file:\n",
      "        data = json.loads(line)\n",
      "        headers = data.pop('headers')\n",
      "        for f in data.keys():\n",
      "            datas.add(f)\n",
      "        for f in headers.keys():\n",
      "            datas.add(f)\n",
      "        # Within this loop, we are reading in one line at a time.\n",
      "        # This will avoid having all 500k emails in memory\n",
      "        \n",
      "# The code below writes the loaded data to a spreadsheet, replacing\n",
      "# carriage returns with the string [newline]\n",
      "written = False\n",
      "a = pandas.DataFrame(index=[0], columns=datas)\n",
      "with open('emails.json') as email_file:\n",
      "    for line in email_file:\n",
      "        mail = json.loads(line)\n",
      "        for f in data.keys():\n",
      "            a.at[0,f] = mail[f].replace('\\n','[newline]')\n",
      "        for f in headers.keys():\n",
      "            try:\n",
      "                a.at[0,f] = mail['headers'][f].replace('\\n','[newline]')\n",
      "            except:\n",
      "                continue\n",
      "        if not written:\n",
      "            a.to_csv('file.csv', index=False, encoding='utf-8')\n",
      "            written=True\n",
      "        else:\n",
      "            a.to_csv('file.csv', index=False, mode='a', header=False, encoding='utf-8')\n",
      "            \n"
     ],
     "language": "python",
     "metadata": {},
     "outputs": [],
     "prompt_number": 9
    },
    {
     "cell_type": "code",
     "collapsed": false,
     "input": [
      "# The code below takes a random sample of emails. You might want to\n",
      "# use this to avoid working with too much data\n",
      "import random\n",
      "from bson.objectid import ObjectId\n",
      "b = coll.find({})\n",
      "with open('ids.csv','w') as f:\n",
      "    f.write('id\\n')\n",
      "    for email in b:\n",
      "        f.write(str(email['_id']))\n",
      "        f.write('\\n')\n",
      "sample_size = 1000\n",
      "ids = pandas.read_csv('ids.csv')\n",
      "sample = random.sample(ids.to_dict()['id'].values(), sample_size)\n",
      "data = coll.find({'_id':{'$in':[ObjectId(i) for i in sample]}})"
     ],
     "language": "python",
     "metadata": {},
     "outputs": [],
     "prompt_number": 10
    },
    {
     "cell_type": "code",
     "collapsed": false,
     "input": [],
     "language": "python",
     "metadata": {},
     "outputs": []
    }
   ],
   "metadata": {}
  }
 ]
}